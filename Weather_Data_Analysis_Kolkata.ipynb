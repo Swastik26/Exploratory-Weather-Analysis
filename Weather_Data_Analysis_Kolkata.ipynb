{
  "nbformat": 4,
  "nbformat_minor": 0,
  "metadata": {
    "colab": {
      "provenance": [],
      "authorship_tag": "ABX9TyNY43SMb9c7bR/PAZ5iQZAu",
      "include_colab_link": true
    },
    "kernelspec": {
      "name": "python3",
      "display_name": "Python 3"
    },
    "language_info": {
      "name": "python"
    }
  },
  "cells": [
    {
      "cell_type": "markdown",
      "metadata": {
        "id": "view-in-github",
        "colab_type": "text"
      },
      "source": [
        "<a href=\"https://colab.research.google.com/github/Swastik26/Exploratory-Weather-Analysis/blob/main/Weather_Data_Analysis_Kolkata.ipynb\" target=\"_parent\"><img src=\"https://colab.research.google.com/assets/colab-badge.svg\" alt=\"Open In Colab\"/></a>"
      ]
    },
    {
      "cell_type": "code",
      "execution_count": null,
      "metadata": {
        "id": "G-pyB-5hXA0A"
      },
      "outputs": [],
      "source": [
        "#Step 1: Import the requests and bs4 library\n",
        "# importing the library\n",
        "import requests\n",
        "from bs4 import BeautifulSoup"
      ]
    },
    {
      "cell_type": "code",
      "source": [
        "# enter city name\n",
        "city = \"kolkata\"\n",
        "\n",
        "# create url\n",
        "url = \"https://www.google.com/search?q=\"+\"weather\"+city\n",
        "\n",
        "# requests instance\n",
        "html = requests.get(url).content\n",
        "\n",
        "# getting raw data\n",
        "soup = BeautifulSoup(html, 'html.parser')\n"
      ],
      "metadata": {
        "id": "U16rmniCX_u3"
      },
      "execution_count": null,
      "outputs": []
    },
    {
      "cell_type": "code",
      "source": [
        "# get the temperature\n",
        "temp = soup.find('div', attrs={'class': 'BNeawe iBp4i AP7Wnd'}).text\n",
        "\n",
        "# this contains time and sky description\n",
        "str = soup.find('div', attrs={'class': 'BNeawe tAd8D AP7Wnd'}).text\n",
        "\n",
        "# format the data\n",
        "data = str.split('\\n')\n",
        "time = data[0]\n",
        "sky = data[1]"
      ],
      "metadata": {
        "id": "q4nhVgQiYJUv"
      },
      "execution_count": null,
      "outputs": []
    },
    {
      "cell_type": "code",
      "source": [
        "# list having all div tags having particular class name\n",
        "listdiv = soup.findAll('div', attrs={'class': 'BNeawe s3v9rd AP7Wnd'})\n",
        "\n",
        "# particular list with required data\n",
        "strd = listdiv[5].text\n",
        "\n",
        "# formatting the string\n",
        "pos = strd.find('Wind')\n",
        "other_data = strd[pos:]"
      ],
      "metadata": {
        "id": "0KaQTTJyYO-G"
      },
      "execution_count": null,
      "outputs": []
    },
    {
      "cell_type": "code",
      "source": [
        "# printing all the data\n",
        "print(\"Temperature is\", temp)\n",
        "print(\"Time: \", time)\n",
        "print(\"Sky Description: \", sky)\n",
        "print(other_data)"
      ],
      "metadata": {
        "colab": {
          "base_uri": "https://localhost:8080/"
        },
        "id": "90IlMRggYSpY",
        "outputId": "e9eb23ac-400b-4053-dba5-e2db65cee04c"
      },
      "execution_count": null,
      "outputs": [
        {
          "output_type": "stream",
          "name": "stdout",
          "text": [
            "Temperature is 71°F\n",
            "Time:  Tuesday 11:22 PM\n",
            "Sky Description:  Haze\n",
            ".\n"
          ]
        }
      ]
    },
    {
      "cell_type": "code",
      "source": [
        "# Importing necessary libraries\n",
        "import requests\n",
        "from bs4 import BeautifulSoup\n",
        "\n",
        "# Enter city name\n",
        "city = \"kolkata\"\n",
        "\n",
        "# Creating URL and making requests instance\n",
        "url = \"https://www.google.com/search?q=\" + \"weather\" + city\n",
        "html = requests.get(url).content\n",
        "\n",
        "# Getting raw data using BeautifulSoup\n",
        "soup = BeautifulSoup(html, 'html.parser')\n",
        "\n",
        "# Extracting the temperature\n",
        "temp = soup.find('div', attrs={'class': 'BNeawe iBp4i AP7Wnd'}).text\n",
        "\n",
        "# Extracting the time and sky description\n",
        "str_ = soup.find('div', attrs={'class': 'BNeawe tAd8D AP7Wnd'}).text\n",
        "data = str_.split('\\n')\n",
        "time = data[0]\n",
        "sky = data[1]\n",
        "\n",
        "# Getting all div tags with the specific class name\n",
        "listdiv = soup.findAll('div', attrs={'class': 'BNeawe s3v9rd AP7Wnd'})\n",
        "\n",
        "# Extracting other required data\n",
        "strd = listdiv[5].text\n",
        "pos = strd.find('Wind')\n",
        "other_data = strd[pos:]\n",
        "\n",
        "# Printing the extracted weather data\n",
        "print(\"Temperature is:\", temp)\n",
        "print(\"Time:\", time)\n",
        "print(\"Sky Description:\", sky)\n",
        "print(other_data)"
      ],
      "metadata": {
        "colab": {
          "base_uri": "https://localhost:8080/"
        },
        "id": "S22Fa2JfYXFX",
        "outputId": "56b5c03c-3871-43e1-ddf1-eb078dc3406f"
      },
      "execution_count": null,
      "outputs": [
        {
          "output_type": "stream",
          "name": "stdout",
          "text": [
            "Temperature is: 71°F\n",
            "Time: Tuesday 11:26 PM\n",
            "Sky Description: Haze\n",
            ")\n"
          ]
        }
      ]
    },
    {
      "cell_type": "code",
      "source": [
        "# Importing the requests module\n",
        "import requests\n",
        "\n",
        "# Sending request to get the IP location information\n",
        "res = requests.get('https://ipinfo.io/')\n",
        "data = res.json()  # Receiving the response in JSON format\n",
        "\n",
        "# Extracting the location of the city from the response\n",
        "citydata = data['city']\n",
        "print(\"Current Location:\", citydata)\n",
        "\n",
        "# Passing the city name to the URL to get weather data\n",
        "url = 'https://wttr.in/{}'.format(citydata)\n",
        "res = requests.get(url)\n",
        "\n",
        "# Printing the schematic weather details of the city\n",
        "print(res.text)"
      ],
      "metadata": {
        "colab": {
          "base_uri": "https://localhost:8080/"
        },
        "id": "l1rKtwGlzhZR",
        "outputId": "d885e022-4c39-4d43-e882-6bd9e7a84ea1"
      },
      "execution_count": null,
      "outputs": [
        {
          "output_type": "stream",
          "name": "stdout",
          "text": [
            "Current Location: Las Vegas\n",
            "Weather report: Las Vegas\n",
            "\n",
            "  \u001b[38;5;226m    \\   /    \u001b[0m Sunny\n",
            "  \u001b[38;5;226m     .-.     \u001b[0m \u001b[38;5;046m48\u001b[0m °F\u001b[0m          \n",
            "  \u001b[38;5;226m  ― (   ) ―  \u001b[0m \u001b[1m←\u001b[0m \u001b[38;5;118m2\u001b[0m mph\u001b[0m        \n",
            "  \u001b[38;5;226m     `-’     \u001b[0m 6 mi\u001b[0m           \n",
            "  \u001b[38;5;226m    /   \\    \u001b[0m 0.0 in\u001b[0m         \n",
            "                                                       ┌─────────────┐                                                       \n",
            "┌──────────────────────────────┬───────────────────────┤  Tue 24 Dec ├───────────────────────┬──────────────────────────────┐\n",
            "│            Morning           │             Noon      └──────┬──────┘     Evening           │             Night            │\n",
            "├──────────────────────────────┼──────────────────────────────┼──────────────────────────────┼──────────────────────────────┤\n",
            "│ \u001b[38;5;226m    \\   /    \u001b[0m Sunny          │               Overcast       │ \u001b[38;5;226m    \\   /    \u001b[0m Clear          │ \u001b[38;5;226m   \\  /\u001b[0m       Partly Cloudy  │\n",
            "│ \u001b[38;5;226m     .-.     \u001b[0m \u001b[38;5;046m48\u001b[0m °F\u001b[0m          │ \u001b[38;5;240;1m     .--.    \u001b[0m \u001b[38;5;082m+53\u001b[0m(\u001b[38;5;118m55\u001b[0m) °F\u001b[0m     │ \u001b[38;5;226m     .-.     \u001b[0m \u001b[38;5;118m57\u001b[0m °F\u001b[0m          │ \u001b[38;5;226m _ /\"\"\u001b[38;5;250m.-.    \u001b[0m \u001b[38;5;082m51\u001b[0m °F\u001b[0m          │\n",
            "│ \u001b[38;5;226m  ― (   ) ―  \u001b[0m \u001b[1m←\u001b[0m \u001b[38;5;118m2\u001b[0m-\u001b[38;5;118m3\u001b[0m mph\u001b[0m      │ \u001b[38;5;240;1m  .-(    ).  \u001b[0m \u001b[1m←\u001b[0m \u001b[38;5;154m4\u001b[0m-\u001b[38;5;154m5\u001b[0m mph\u001b[0m      │ \u001b[38;5;226m  ― (   ) ―  \u001b[0m \u001b[1m↑\u001b[0m \u001b[38;5;118m3\u001b[0m-\u001b[38;5;190m7\u001b[0m mph\u001b[0m      │ \u001b[38;5;226m   \\_\u001b[38;5;250m(   ).  \u001b[0m \u001b[1m↑\u001b[0m \u001b[38;5;214m13\u001b[0m-\u001b[38;5;196m23\u001b[0m mph\u001b[0m    │\n",
            "│ \u001b[38;5;226m     `-’     \u001b[0m 6 mi\u001b[0m           │ \u001b[38;5;240;1m (___.__)__) \u001b[0m 6 mi\u001b[0m           │ \u001b[38;5;226m     `-’     \u001b[0m 6 mi\u001b[0m           │ \u001b[38;5;226m   /\u001b[38;5;250m(___(__) \u001b[0m 6 mi\u001b[0m           │\n",
            "│ \u001b[38;5;226m    /   \\    \u001b[0m 0.0 in | 0%\u001b[0m    │               0.0 in | 0%\u001b[0m    │ \u001b[38;5;226m    /   \\    \u001b[0m 0.0 in | 0%\u001b[0m    │               0.0 in | 0%\u001b[0m    │\n",
            "└──────────────────────────────┴──────────────────────────────┴──────────────────────────────┴──────────────────────────────┘\n",
            "                                                       ┌─────────────┐                                                       \n",
            "┌──────────────────────────────┬───────────────────────┤  Wed 25 Dec ├───────────────────────┬──────────────────────────────┐\n",
            "│            Morning           │             Noon      └──────┬──────┘     Evening           │             Night            │\n",
            "├──────────────────────────────┼──────────────────────────────┼──────────────────────────────┼──────────────────────────────┤\n",
            "│ \u001b[38;5;226m    \\   /    \u001b[0m Sunny          │ \u001b[38;5;226m    \\   /    \u001b[0m Sunny          │ \u001b[38;5;226m   \\  /\u001b[0m       Partly Cloudy  │               Cloudy         │\n",
            "│ \u001b[38;5;226m     .-.     \u001b[0m \u001b[38;5;047m+44\u001b[0m(\u001b[38;5;048m39\u001b[0m) °F\u001b[0m     │ \u001b[38;5;226m     .-.     \u001b[0m \u001b[38;5;118m+55\u001b[0m(\u001b[38;5;082m53\u001b[0m) °F\u001b[0m     │ \u001b[38;5;226m _ /\"\"\u001b[38;5;250m.-.    \u001b[0m \u001b[38;5;082m+53\u001b[0m(\u001b[38;5;082m51\u001b[0m) °F\u001b[0m     │ \u001b[38;5;250m     .--.    \u001b[0m \u001b[38;5;046m+46\u001b[0m(\u001b[38;5;047m42\u001b[0m) °F\u001b[0m     │\n",
            "│ \u001b[38;5;226m  ― (   ) ―  \u001b[0m \u001b[1m↘\u001b[0m \u001b[38;5;226m9\u001b[0m-\u001b[38;5;208m14\u001b[0m mph\u001b[0m     │ \u001b[38;5;226m  ― (   ) ―  \u001b[0m \u001b[1m↘\u001b[0m \u001b[38;5;220m10\u001b[0m-\u001b[38;5;220m11\u001b[0m mph\u001b[0m    │ \u001b[38;5;226m   \\_\u001b[38;5;250m(   ).  \u001b[0m \u001b[1m↘\u001b[0m \u001b[38;5;118m3\u001b[0m-\u001b[38;5;226m8\u001b[0m mph\u001b[0m      │ \u001b[38;5;250m  .-(    ).  \u001b[0m \u001b[1m↓\u001b[0m \u001b[38;5;154m4\u001b[0m-\u001b[38;5;226m9\u001b[0m mph\u001b[0m      │\n",
            "│ \u001b[38;5;226m     `-’     \u001b[0m 6 mi\u001b[0m           │ \u001b[38;5;226m     `-’     \u001b[0m 6 mi\u001b[0m           │ \u001b[38;5;226m   /\u001b[38;5;250m(___(__) \u001b[0m 6 mi\u001b[0m           │ \u001b[38;5;250m (___.__)__) \u001b[0m 6 mi\u001b[0m           │\n",
            "│ \u001b[38;5;226m    /   \\    \u001b[0m 0.0 in | 0%\u001b[0m    │ \u001b[38;5;226m    /   \\    \u001b[0m 0.0 in | 0%\u001b[0m    │               0.0 in | 0%\u001b[0m    │               0.0 in | 0%\u001b[0m    │\n",
            "└──────────────────────────────┴──────────────────────────────┴──────────────────────────────┴──────────────────────────────┘\n",
            "                                                       ┌─────────────┐                                                       \n",
            "┌──────────────────────────────┬───────────────────────┤  Thu 26 Dec ├───────────────────────┬──────────────────────────────┐\n",
            "│            Morning           │             Noon      └──────┬──────┘     Evening           │             Night            │\n",
            "├──────────────────────────────┼──────────────────────────────┼──────────────────────────────┼──────────────────────────────┤\n",
            "│               Cloudy         │               Overcast       │ \u001b[38;5;226m    \\   /    \u001b[0m Clear          │ \u001b[38;5;226m   \\  /\u001b[0m       Partly Cloudy  │\n",
            "│ \u001b[38;5;250m     .--.    \u001b[0m \u001b[38;5;047m+42\u001b[0m(\u001b[38;5;048m41\u001b[0m) °F\u001b[0m     │ \u001b[38;5;240;1m     .--.    \u001b[0m \u001b[38;5;082m+50\u001b[0m(\u001b[38;5;046m48\u001b[0m) °F\u001b[0m     │ \u001b[38;5;226m     .-.     \u001b[0m \u001b[38;5;082m50\u001b[0m °F\u001b[0m          │ \u001b[38;5;226m _ /\"\"\u001b[38;5;250m.-.    \u001b[0m \u001b[38;5;047m+44\u001b[0m(\u001b[38;5;048m41\u001b[0m) °F\u001b[0m     │\n",
            "│ \u001b[38;5;250m  .-(    ).  \u001b[0m \u001b[1m↙\u001b[0m \u001b[38;5;082m0\u001b[0m-\u001b[38;5;082m1\u001b[0m mph\u001b[0m      │ \u001b[38;5;240;1m  .-(    ).  \u001b[0m \u001b[1m↓\u001b[0m \u001b[38;5;154m5\u001b[0m-\u001b[38;5;190m6\u001b[0m mph\u001b[0m      │ \u001b[38;5;226m  ― (   ) ―  \u001b[0m \u001b[1m↙\u001b[0m \u001b[38;5;118m3\u001b[0m-\u001b[38;5;190m6\u001b[0m mph\u001b[0m      │ \u001b[38;5;226m   \\_\u001b[38;5;250m(   ).  \u001b[0m \u001b[1m↓\u001b[0m \u001b[38;5;118m2\u001b[0m-\u001b[38;5;154m4\u001b[0m mph\u001b[0m      │\n",
            "│ \u001b[38;5;250m (___.__)__) \u001b[0m 6 mi\u001b[0m           │ \u001b[38;5;240;1m (___.__)__) \u001b[0m 6 mi\u001b[0m           │ \u001b[38;5;226m     `-’     \u001b[0m 6 mi\u001b[0m           │ \u001b[38;5;226m   /\u001b[38;5;250m(___(__) \u001b[0m 6 mi\u001b[0m           │\n",
            "│               0.0 in | 0%\u001b[0m    │               0.0 in | 0%\u001b[0m    │ \u001b[38;5;226m    /   \\    \u001b[0m 0.0 in | 0%\u001b[0m    │               0.0 in | 0%\u001b[0m    │\n",
            "└──────────────────────────────┴──────────────────────────────┴──────────────────────────────┴──────────────────────────────┘\n",
            "Location: Las Vegas, Clark County, Nevada, United States of America [36.1662859,-115.1492249]\n",
            "\n",
            "Follow \u001b[46m\u001b[30m@igor_chubin\u001b[0m for wttr.in updates\n",
            "\n"
          ]
        }
      ]
    },
    {
      "cell_type": "code",
      "source": [
        "!pip install requests\n"
      ],
      "metadata": {
        "colab": {
          "base_uri": "https://localhost:8080/"
        },
        "id": "U4zoIqDqzy-4",
        "outputId": "527e6d05-7ea8-46b7-8981-8d46250bb321"
      },
      "execution_count": null,
      "outputs": [
        {
          "output_type": "stream",
          "name": "stdout",
          "text": [
            "Requirement already satisfied: requests in /usr/local/lib/python3.10/dist-packages (2.32.3)\n",
            "Requirement already satisfied: charset-normalizer<4,>=2 in /usr/local/lib/python3.10/dist-packages (from requests) (3.4.0)\n",
            "Requirement already satisfied: idna<4,>=2.5 in /usr/local/lib/python3.10/dist-packages (from requests) (3.10)\n",
            "Requirement already satisfied: urllib3<3,>=1.21.1 in /usr/local/lib/python3.10/dist-packages (from requests) (2.2.3)\n",
            "Requirement already satisfied: certifi>=2017.4.17 in /usr/local/lib/python3.10/dist-packages (from requests) (2024.12.14)\n"
          ]
        }
      ]
    },
    {
      "cell_type": "code",
      "source": [
        "import requests\n"
      ],
      "metadata": {
        "id": "2JZTwi--02R4"
      },
      "execution_count": null,
      "outputs": []
    },
    {
      "cell_type": "code",
      "source": [
        "api_key = '1234567890abcdef1234567890abcdef'  # Replace with your OpenWeatherMap API key\n",
        "city = 'Kolkata,INDIA'\n"
      ],
      "metadata": {
        "id": "qAfe65m306vy"
      },
      "execution_count": null,
      "outputs": []
    },
    {
      "cell_type": "code",
      "source": [
        "url = f'http://api.openweathermap.org/data/2.5/weather?q=Kolkata,INDIA&appid=84a70bc4f90b882e57be925a70f60bb9&units=metric'\n"
      ],
      "metadata": {
        "id": "YdtHq7dT1a-H"
      },
      "execution_count": null,
      "outputs": []
    },
    {
      "cell_type": "code",
      "source": [
        "import requests\n",
        "\n",
        "# API key from OpenWeatherMap\n",
        "api_key = 'your_api_key_here'  # Replace with your OpenWeatherMap API key\n",
        "city = 'Kolkata,IN'  # City name with country code\n",
        "\n",
        "# API endpoint\n",
        "url = f'http://api.openweathermap.org/data/2.5/weather?q=Kolkata,INDIA&appid=84a70bc4f90b882e57be925a70f60bb9&units=metric'\n",
        "\n",
        "# Make the API request\n",
        "response = requests.get(url)\n",
        "\n",
        "# Check if the request was successful\n",
        "if response.status_code == 200:\n",
        "    data = response.json()\n",
        "    temperature = data['main']['temp']\n",
        "    humidity = data['main']['humidity']\n",
        "    weather_description = data['weather'][0]['description']\n",
        "    clouds = data['clouds']['all']\n",
        "\n",
        "    # Output the fetched data\n",
        "    print(f\"Temperature: {temperature}°C\")\n",
        "    print(f\"Humidity: {humidity}%\")\n",
        "    print(f\"Weather Description: {weather_description}\")\n",
        "    print(f\"Cloud Coverage: {clouds}%\")\n",
        "else:\n",
        "    print(f\"Error: {response.status_code} - Unable to fetch data.\")\n",
        "\n"
      ],
      "metadata": {
        "colab": {
          "base_uri": "https://localhost:8080/"
        },
        "id": "uNBMs_391jxi",
        "outputId": "be8a5430-b8d8-402c-cf89-0c81723d561a"
      },
      "execution_count": null,
      "outputs": [
        {
          "output_type": "stream",
          "name": "stdout",
          "text": [
            "Error: 401 - Unable to fetch data.\n"
          ]
        }
      ]
    }
  ]
}